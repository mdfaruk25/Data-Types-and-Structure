{
 "cells": [
  {
   "cell_type": "markdown",
   "id": "f2dfd4fe-7cbc-4e71-b538-22258ac038b7",
   "metadata": {},
   "source": [
    "1.\tWhat are data structures, and why are they important?\r\n",
    "Ans: Data structure is the way of organizing data so that it can be accessed effectively. Data structure is the fundamental part of any programming language. \r\n",
    "Python data structure are essentially containers for different kind of data. The main four type list, tuple, set and dictionarie.\r\n"
   ]
  },
  {
   "cell_type": "markdown",
   "id": "546cf2b5-9819-485d-aa4c-1c22253264ac",
   "metadata": {},
   "source": [
    "2.\tExplain the difference between mutable and immutable data types with examples.\n",
    "Ans: Mutable data type is which can be changed after it created like list. On other hand string, tuple are immutable data type.\n",
    "Ex.\n",
    "list=['arun','madhu','jadu']\n",
    "list.append(p)    #passed value appended to the list\n",
    "print(list)\n",
    "\n",
    "tuple=(90,190,284)\n",
    "tuple[0]=10    # 'tuple' object does not support item assignment\n",
    "print(tuple)\n"
   ]
  },
  {
   "cell_type": "markdown",
   "id": "dda45458-646e-4f94-9037-d0187d5b97a6",
   "metadata": {},
   "source": [
    "3.\tWhat are the main differences between list and tuples in Python?\n",
    "Ans: List is mutable as list elements can be changed and tuples are immutable as tuple elements can be changed\n",
    "Ex.\n",
    "List1=['a','b','c']\n",
    "List1.append(d)    #passed value appended to the list\n",
    "print(list)\n",
    "\n",
    "tuple=(90,190,284)\n",
    "tuple[0]=10    # 'tuple' object does not support item assignment\n",
    "print(tuple)\n"
   ]
  },
  {
   "cell_type": "markdown",
   "id": "717580bd-34e7-4c97-9b9a-c06bf836675c",
   "metadata": {},
   "source": [
    "4. Describe how dictionaries store data\n",
    "Ans: A Python dictionary is a data structure that store value in key:value pairs. Value in dictionary can be of any data type.\n",
    "Dictionary use hash map to store in key and value relation. Using key we can access dictionary elements.\n",
    "dict1={\"rahul\":35,\"ankit\":45,\"sanju\":34}\n",
    "print(dict1)"
   ]
  },
  {
   "cell_type": "markdown",
   "id": "d0286dae-4f65-4803-8fb9-0065bbd85376",
   "metadata": {},
   "source": [
    "5. Why might you use a set instead of a list in python?\n",
    "\n",
    "Ans: List is ordered group with possibly repeated objec and set is an unordered group of unique objects. \n",
    "Set is useful when to remove duplicate.\n",
    "Eg: \n",
    "list=[2,4,5,7,4,8]\n",
    "print(list)\n",
    "print(set(list))    #list converted to set and duplicate element removed i.e. 4\n"
   ]
  },
  {
   "cell_type": "markdown",
   "id": "d6d0afe9-ffc4-476f-851a-5c80aabaf95f",
   "metadata": {},
   "source": [
    "6. What is a string in Python, and how is it different from a list?\n",
    "\n",
    "Ans: A string is a sequence of characters between single or double quote. A list is sequence of items of different data type.\n",
    "Ex. str=\"abcd\"\n",
    "print(str)\n",
    "list=[1,'e',4,'f']\n",
    "print(list)"
   ]
  },
  {
   "cell_type": "markdown",
   "id": "2571d01f-b565-4161-95b7-0e5bb8a1ec3d",
   "metadata": {},
   "source": [
    "7. How do tuples ensure data integrity in Python?\n",
    "Ans: Tuple is data structure of immutable property. Once tuple created element can not be change which it makes \n",
    "reliable choice for storing fixed collection of data.\n",
    "Ex. team_tuple=('Manager', 'Astt Manager', 'Helper')\n",
    "print(team_tuple)"
   ]
  },
  {
   "cell_type": "markdown",
   "id": "3ee8fb26-01c8-4811-a540-4471b3b50b82",
   "metadata": {},
   "source": [
    "8. What is a hash table, and how does it relate to dictionaries in Python?\n",
    "Ans: Hash table is data structure with allows to store a collection of key and value pair. In hash table the key of \n",
    "every key-value pair must be hashtable, because the pair stored are indexed by using hash of their key.\n",
    "Dictionary can be created by \n",
    "a) using curly braces({}) and \n",
    "b) using the dict() function\n",
    "Hash table is implemented using build in dictionary data type.\n",
    "Ex.\n",
    "dict={\"arun\":\"driver\",\"pankaj\":\"manager\"}\n",
    "print(dict)"
   ]
  },
  {
   "cell_type": "markdown",
   "id": "5424ed24-6d80-4170-bf4e-72d84783a1e9",
   "metadata": {},
   "source": [
    "9. Can lists contain different data types in Python?\n",
    "Ans: List can contain different data types as element. A list can have int, float etc in one list.\n",
    "Ex. list=[1,'e',4,'f']\n",
    "print(list)"
   ]
  },
  {
   "cell_type": "code",
   "execution_count": null,
   "id": "022d4f49-e0dc-49f4-aba9-07aa120255b8",
   "metadata": {},
   "outputs": [],
   "source": [
    "10. Explain why strings are immutable in Python?\n",
    "\n",
    "Ans: String in python are immutable that means string can not be change once it created.Immutability gives safety of data,\n",
    "ease of use and prevent accidental change of data.\n",
    "Eg.\n",
    "str=\"Elephant\"\n",
    "str[0]='R'"
   ]
  },
  {
   "cell_type": "markdown",
   "id": "136c0b60-c34d-4457-936b-66ec4a938067",
   "metadata": {},
   "source": [
    "11. What advantages do dictionaries offer over lists for certain tasks?\n",
    "Ans: Dictionaries are more easier to use than list. It is more effecient to use dictionaries for seaching elements. \n",
    "Dictionaries take less time in searching operation than list."
   ]
  },
  {
   "cell_type": "markdown",
   "id": "a7be1148-8bd8-47a4-be4d-1b4d559ca15a",
   "metadata": {},
   "source": [
    "12. Describe a scenario where using a tuple would be preferable over a list\n",
    "Ans: Typle are faster than list. In terms of programming tuple more safe than list as tuple prevent accidental modification.\n",
    "In terms of data safety and security tuple is more preferable over list.\n",
    "Ex.\n",
    "tuple=(2,3,56)\n",
    "tuple[0]=9   # not allowed"
   ]
  },
  {
   "cell_type": "markdown",
   "id": "bc5f6167-4b42-46ba-ab6b-7ce006da1c60",
   "metadata": {},
   "source": [
    "13. How do sets handle duplicate values in Python?\n",
    "Ans: Items of a set is immutable which can not be changed after it created also donot allow duplicate items. Set prevent duplicate entry. Set donot allow duplicate items stored in them cannot be modified. Set helps to make data clean. Using set we can remove duplicate elements quite easily. One example given below which removed duplicate elements i.e. 12,13 after converting list to set.\n",
    "Ex. list1=[12, 13, 25, 65, 8,22,12,13]\n",
    "list1\n",
    "print(set(list1))\n"
   ]
  },
  {
   "cell_type": "markdown",
   "id": "f2020db8-844a-4f86-b377-c26b4a254e36",
   "metadata": {},
   "source": [
    "14. How does the \"in\" keyword work differently for lists and dictionaries?\n",
    "Ans. For list data structure in keyword iterated over the elmenent. In the following example lis elements\n",
    "will be displayed.\n",
    "Ex. list=[23,4,67,89]\n",
    "for i in list:\n",
    "    print(i)\n",
    "    For dictionary data structure in keyword is iterate over the keys present in the dictionaries. In the following example\n",
    "key will be displayed.\n",
    "Ex.\n",
    "    dict={\"arup\":12,\"tilak\":45,\"santosh\":78}\n",
    "for i in dict:\n",
    "    print(i)\n"
   ]
  },
  {
   "cell_type": "markdown",
   "id": "71ff0fda-2628-4e8d-95e5-28cd67226178",
   "metadata": {},
   "source": [
    "15. Can you modify the elements of a tuple? Explain why or why not.\n",
    "Ans: Tuple is a data structure in Python which is immutable in nature. Tuple does not allow to change element. Python allow\n",
    "elements of different data type.\n",
    "Ex.\n",
    "tuple=('rahul',3,'pradip',2.5)\n",
    "print(tuple)\n",
    "print(tuple[0])\n",
    "tuple[0]=23\n",
    "print(tuple)"
   ]
  },
  {
   "cell_type": "markdown",
   "id": "7730bb9f-ad2e-46b2-a560-d44b7f986471",
   "metadata": {},
   "source": [
    "16. What is a nested dictionary, and give an example of its use case?\n",
    "Ans: Nestesd disctionary is a dictionary where mupliple dictionary present. Below example shows the nested dictionary.\n",
    "Ex.\n",
    "nest_dict={\"dict1\":{\"a\":23},\n",
    "\"dict2\":{\"b\":45},\n",
    "\"dict3\":{\"c\":67}  }\n",
    "print(nest_dict)\n"
   ]
  },
  {
   "cell_type": "markdown",
   "id": "fc0480b4-088d-4228-83ab-3239ea63e6e6",
   "metadata": {},
   "source": [
    "17. Describe the time compelxity of accessing elemenent in a dictionary.\n",
    "Ans: In Python, Dictionary provide a fast and efficient way to store and retrieve data using key and value pair.\n",
    "The time complexity of accessing element in a dictionary is O(1).\n",
    "Dictionary use a hash table internally to store data. Whenever an element to be accessed dictionary check the element in\n",
    "hash table and dictionary knows exactly where to check the element. Accordingly, due to hashing system accessing element\n",
    "is very fast."
   ]
  },
  {
   "cell_type": "markdown",
   "id": "53941f8a-d77a-4774-aee7-bd0f5deb5da7",
   "metadata": {},
   "source": [
    "18. In what situations are lists preferred over dictionaries?\n",
    "    \n",
    "Ans: There are various data structure in Python to serve different purposes. Among these list and dictionary are two most\n",
    "commonly used data structure.\n",
    "List is ordered collection of items of different data types, access by their numerial index. List are dynamic. We can change\n",
    "content afere its creation. List is mutable. On other hand dictionaries are collection of key -value pairs. Each key is unique\n",
    "identifier for its corresponding value. So, when we need dynamic collection of data then it is preferreble to use list\n",
    "data structure.\n",
    "Ex.\n",
    "list=[2,'arun',34,56]\n",
    "list.append('rahul')\n",
    "list"
   ]
  },
  {
   "cell_type": "markdown",
   "id": "be1e0535-28c1-42fc-91cd-c77eed7de793",
   "metadata": {},
   "source": [
    "19. Why are dictionaries considered unordered, and how does that affect data retrieval?\n",
    "Ans: Dictionaries is called as unordered because it can not be access the dictionary element bases on its position.\n",
    "For dictionary it is not possible to access its element using position as element in dictionary not ordered. Position of\n",
    "element in the dictionary does not have fixed position, like used in list data structure. Instead, we will have to use key\n",
    "to access corresponding value of key.\n",
    "Ex.\n",
    "my_dict={'name':'Raju','age':25,'gender':'m'}\n",
    "print(my_dict['name'])   #key wise retrieval of data"
   ]
  },
  {
   "cell_type": "code",
   "execution_count": null,
   "id": "4402aa3f-b4bc-4a3b-9afd-931fd8ac552c",
   "metadata": {},
   "outputs": [],
   "source": [
    "20. Explain the differenct between a list and a dictionary in terms of data retrieval.\n",
    "Ans: List and Dictionary are two kind of data structure in python used for different purposes. List allows dynamic collection\n",
    "of data and Dictionary allows unique key and value.\n",
    "In case of accessing element or data in list we can access the elements in a key using indices. On other hand we can access \n",
    "the element in key -value. Dictionary use a hash table internally to store data. Whenever an element to be accessed dictionary\n",
    "check the element in hash table and dictionary knows exactly where to check the element.Time complexity of accessing element \n",
    "in list is O(1), which is same for dictionary also."
   ]
  },
  {
   "cell_type": "code",
   "execution_count": null,
   "id": "90024955-6319-4f77-ab58-ce24634f5ef3",
   "metadata": {},
   "outputs": [],
   "source": [
    "Practical Questions:"
   ]
  },
  {
   "cell_type": "code",
   "execution_count": 1,
   "id": "39fcca58-95de-4dd5-aeeb-eb92f353ad3b",
   "metadata": {},
   "outputs": [
    {
     "name": "stdout",
     "output_type": "stream",
     "text": [
      "String is: Faruk\n"
     ]
    }
   ],
   "source": [
    "#1. Write a code to create a string with your name and print it\n",
    "string=\"Faruk\"\n",
    "print(\"String is:\",string)"
   ]
  },
  {
   "cell_type": "code",
   "execution_count": 2,
   "id": "cf3a265d-f77a-4a81-9603-d420d1fd9f5f",
   "metadata": {},
   "outputs": [
    {
     "name": "stdout",
     "output_type": "stream",
     "text": [
      "The length of the string is: 11\n"
     ]
    }
   ],
   "source": [
    "#2. Write a code to find the length of the string \"Hello World\"\n",
    "\n",
    "line=\"Hello World\"\n",
    "count=len(line)\n",
    "print(\"The length of the string is:\", count)\n"
   ]
  },
  {
   "cell_type": "code",
   "execution_count": 52,
   "id": "0b5d0ae3-cfed-4609-a3b6-6b3e0d948a37",
   "metadata": {},
   "outputs": [
    {
     "name": "stdout",
     "output_type": "stream",
     "text": [
      "Pyt\n"
     ]
    }
   ],
   "source": [
    "# 3. Write a code to slice the first 3 characters from the string \"Python Programming\"\n",
    "str=\"Python Programming\"\n",
    "print(str[:3])"
   ]
  },
  {
   "cell_type": "code",
   "execution_count": 4,
   "id": "c52ae7c8-5d15-4af2-b393-f57b472b6061",
   "metadata": {},
   "outputs": [
    {
     "name": "stdout",
     "output_type": "stream",
     "text": [
      "HELLO\n"
     ]
    }
   ],
   "source": [
    "# 4. Write a code to convert a string \"hello\" to uppercase.\n",
    "\n",
    "string=\"hello\"\n",
    "print(string.upper())"
   ]
  },
  {
   "cell_type": "code",
   "execution_count": 3,
   "id": "696b2802-6331-4385-9622-d64e899c85ef",
   "metadata": {},
   "outputs": [
    {
     "name": "stdout",
     "output_type": "stream",
     "text": [
      "I like orange\n"
     ]
    }
   ],
   "source": [
    "#5. Write a code to replace the word \"apple\" with \"orange\" in the string \"I like apple\".\n",
    "string=\"I like apple\"\n",
    "t=string.replace(\"apple\", \"orange\")\n",
    "print(t)"
   ]
  },
  {
   "cell_type": "code",
   "execution_count": 5,
   "id": "7003cafe-02cd-4224-b325-206f17ee9ffa",
   "metadata": {},
   "outputs": [
    {
     "name": "stdout",
     "output_type": "stream",
     "text": [
      "[1, 2, 3, 4, 5]\n"
     ]
    }
   ],
   "source": [
    "#6. Write a code to create a list with numbers 1 to 5 and print it.\n",
    "\n",
    "list=[1,2,3,4,5]   #list created\n",
    "print(list)"
   ]
  },
  {
   "cell_type": "code",
   "execution_count": 6,
   "id": "4f156307-15d5-4604-ad00-e201b97a4ff4",
   "metadata": {},
   "outputs": [
    {
     "name": "stdout",
     "output_type": "stream",
     "text": [
      "[1, 2, 3, 4, 10]\n"
     ]
    }
   ],
   "source": [
    "#7. Write a code to append the number 10 to the list[1,2,3,4].\n",
    "list=[1,2,3,4]\n",
    "list.append(10)\n",
    "print(list)"
   ]
  },
  {
   "cell_type": "code",
   "execution_count": 9,
   "id": "bb55018b-6f81-48cc-8270-6ea16bd81acd",
   "metadata": {},
   "outputs": [
    {
     "name": "stdout",
     "output_type": "stream",
     "text": [
      "Initial list: [1, 2, 3, 4, 5]\n",
      "List after remove 3 from list: [1, 2, 4, 5]\n"
     ]
    }
   ],
   "source": [
    "# 8. Write a code to remove the number 3 from the list [1,2,3,4,5].\n",
    "\n",
    "list=[1,2,3,4,5]\n",
    "print(\"Initial list:\",list)\n",
    "list.remove(3)\n",
    "print(\"List after remove 3 from list:\",list)"
   ]
  },
  {
   "cell_type": "code",
   "execution_count": 10,
   "id": "ec54f993-eed1-4a92-baf7-d3fc61f4d13a",
   "metadata": {},
   "outputs": [
    {
     "name": "stdout",
     "output_type": "stream",
     "text": [
      "The second element is: b\n"
     ]
    }
   ],
   "source": [
    "# 9. Write a code to access the second element in the list ['a','b','c','d'].\n",
    "\n",
    "list=['a','b','c','d']\n",
    "second_element=list[1]\n",
    "print(\"The second element is:\", second_element)\n"
   ]
  },
  {
   "cell_type": "code",
   "execution_count": 11,
   "id": "eadbd99e-519f-4803-83e8-ea820571be9d",
   "metadata": {},
   "outputs": [
    {
     "name": "stdout",
     "output_type": "stream",
     "text": [
      "The reverse list is: [50, 40, 30, 20, 10]\n"
     ]
    }
   ],
   "source": [
    "# 10. Write a code to reverse the list [10,20,30,40,50].\n",
    "\n",
    "list=[10,20,30,40,50]\n",
    "print(\"The reverse list is:\", list[::-1])"
   ]
  },
  {
   "cell_type": "code",
   "execution_count": 6,
   "id": "d86e36de-97c5-4663-a51e-2772134299ad",
   "metadata": {},
   "outputs": [
    {
     "name": "stdout",
     "output_type": "stream",
     "text": [
      "(10, 20, 30)\n"
     ]
    }
   ],
   "source": [
    "# 11. Write a code to create a tuple with the elements 10, 20, 30 and print it.\n",
    "\n",
    "tuple=(10,20,30)\n",
    "print(tuple)"
   ]
  },
  {
   "cell_type": "code",
   "execution_count": 22,
   "id": "8749a659-7152-44c4-8444-a46221245b3e",
   "metadata": {},
   "outputs": [
    {
     "name": "stdout",
     "output_type": "stream",
     "text": [
      "apple\n"
     ]
    }
   ],
   "source": [
    "# 12. Write a code to access the first element of the tuple('apple','banana','cherry').\n",
    "\n",
    "tuple=('apple','banana','cherry')\n",
    "print(tuple[0])                          #printing 1st element\n"
   ]
  },
  {
   "cell_type": "code",
   "execution_count": 13,
   "id": "2576035a-3a22-45ce-8364-d0b69f2651df",
   "metadata": {},
   "outputs": [
    {
     "name": "stdout",
     "output_type": "stream",
     "text": [
      "3\n"
     ]
    }
   ],
   "source": [
    "# 13. Write a code to count how many times the number 2 appears in the tuple (1,2,3,2,4,2).\n",
    "\n",
    "tuple=(1,2,3,2,4,2)\n",
    "print(tuple.count(2))     # check number of times number 2 appears in the tuple"
   ]
  },
  {
   "cell_type": "code",
   "execution_count": 17,
   "id": "a8833403-6020-48bb-98d8-bfc16b3414e5",
   "metadata": {},
   "outputs": [
    {
     "name": "stdout",
     "output_type": "stream",
     "text": [
      "The index of cat is: 1\n"
     ]
    }
   ],
   "source": [
    "# 14. Write a code to find the index of the element \"cat\" in the tuple ('dog','cat','rabbit').\n",
    "\n",
    "animal_tuple=('dog','cat','rabbit')\n",
    "print(\"The index of cat is:\",animal_tuple.index(\"cat\"))\n"
   ]
  },
  {
   "cell_type": "code",
   "execution_count": 18,
   "id": "6d5f4323-f997-47f2-95fb-9612eba75b34",
   "metadata": {},
   "outputs": [
    {
     "name": "stdout",
     "output_type": "stream",
     "text": [
      "banana is exit in the tuple\n"
     ]
    }
   ],
   "source": [
    "# 15. Write a code to check if the element \"banana\" is in the tuple('apple','orange','banana')\n",
    "\n",
    "fruit_tuple=('apple','orange','banana')\n",
    "\n",
    "for i in fruit_tuple:\n",
    "    if i==\"banana\":\n",
    "        print(\"banana is exit in the tuple\")\n",
    "    "
   ]
  },
  {
   "cell_type": "code",
   "execution_count": 29,
   "id": "04607d27-681e-48d9-91cd-912a0307e9fb",
   "metadata": {},
   "outputs": [
    {
     "name": "stdout",
     "output_type": "stream",
     "text": [
      "{1, 2, 3, 4, 5}\n"
     ]
    }
   ],
   "source": [
    "# 16. Write a code to create a set with the elmements 1,2,3,4,5 and print it.\n",
    "\n",
    "num_set={1,2,3,4,5}   \n",
    "print(num_set)          #printing set"
   ]
  },
  {
   "cell_type": "code",
   "execution_count": 19,
   "id": "556856b2-90d1-422e-be12-dd7a2baa8587",
   "metadata": {},
   "outputs": [
    {
     "name": "stdout",
     "output_type": "stream",
     "text": [
      "{1, 2, 3, 4, 6}\n"
     ]
    }
   ],
   "source": [
    "# 17. Write a code to add the element 6 to the set {1,2,3,4}.\n",
    "num_set={1,2,3,4}  \n",
    "num_set.add(6)\n",
    "print(num_set) "
   ]
  },
  {
   "cell_type": "code",
   "execution_count": 38,
   "id": "ac0de857-384b-4c2e-8131-55f9be68a7dc",
   "metadata": {},
   "outputs": [
    {
     "name": "stdout",
     "output_type": "stream",
     "text": [
      "[10, 20, 30]\n"
     ]
    }
   ],
   "source": [
    "# 18. Write a code to create a tuple with the elements 10,20,30 and print it.\n",
    "\n",
    "tuple1=[10,20,30]\n",
    "print(tuple1)"
   ]
  },
  {
   "cell_type": "code",
   "execution_count": null,
   "id": "925400ab-28d2-4713-a96f-f4f6f11637c1",
   "metadata": {},
   "outputs": [],
   "source": [
    "# 19. Write a code to access the first element of the tuple('apple','banana','cherry').\n",
    "\n",
    "tuple=('apple','banana','cherry')\n",
    "print(tuple[0])                          #accessing 1st element"
   ]
  },
  {
   "cell_type": "code",
   "execution_count": 39,
   "id": "8004f9e2-252b-40b5-a982-826ce8054088",
   "metadata": {},
   "outputs": [
    {
     "name": "stdout",
     "output_type": "stream",
     "text": [
      "3\n"
     ]
    }
   ],
   "source": [
    "# 20. Write a code to count how many times the number 2 appears in the tuple(1,2,3,2,4,2)\n",
    "\n",
    "tuple1=(1,2,3,2,4,2)\n",
    "print(tuple1.count(2))     # check number of times number 2 appears in the tuple"
   ]
  },
  {
   "cell_type": "code",
   "execution_count": 41,
   "id": "e5d56d7b-71d0-40f0-9049-8e56f4702937",
   "metadata": {},
   "outputs": [
    {
     "name": "stdout",
     "output_type": "stream",
     "text": [
      "1\n"
     ]
    }
   ],
   "source": [
    "# 21. Write a code to find the index of the element \"cat\" in the tuple ('dog','cat','rabbit')\n",
    "\n",
    "animal_tuple1=('dog','cat','rabbit')\n",
    "print(animal_tuple1.index(\"cat\"))\n"
   ]
  },
  {
   "cell_type": "code",
   "execution_count": 26,
   "id": "4501f803-c7f3-4b47-ac6f-70ac5a6575b6",
   "metadata": {},
   "outputs": [
    {
     "name": "stdout",
     "output_type": "stream",
     "text": [
      "banana is exit in the tuple\n"
     ]
    }
   ],
   "source": [
    "# 22. Write a code to check if the element \"banana\" is in the tuple('apple','orange','banana')\n",
    "\n",
    "fruit_tuple=('apple','orange','banana')\n",
    "\n",
    "for i in fruit_tuple:\n",
    "    if i==\"banana\":\n",
    "        print(\"banana is exit in the tuple\")"
   ]
  },
  {
   "cell_type": "code",
   "execution_count": 42,
   "id": "cc10cdba-2a4d-43a5-8d6e-b98ca1bc57dc",
   "metadata": {},
   "outputs": [
    {
     "name": "stdout",
     "output_type": "stream",
     "text": [
      "(1, 2, 3, 4, 5)\n"
     ]
    }
   ],
   "source": [
    "# 23. Write a code to create a set with the element 1,2,3,4,5 and print ig.\n",
    "\n",
    "set1=(1,2,3,4,5)\n",
    "print(set1)"
   ]
  },
  {
   "cell_type": "code",
   "execution_count": 20,
   "id": "64073da4-24cf-4c81-843f-584dc38fa25c",
   "metadata": {},
   "outputs": [
    {
     "name": "stdout",
     "output_type": "stream",
     "text": [
      "Set is: {1, 2, 3, 4}\n",
      "Set after adding 6 {1, 2, 3, 4, 6}\n"
     ]
    }
   ],
   "source": [
    "# 24. Write a code to add the element 6 to the set {1,2,3,4}\n",
    "set2={1,2,3,4}\n",
    "print(\"Set is:\",set2)\n",
    "set2.add(6)\n",
    "print(\"Set after adding 6\",set2)"
   ]
  }
 ],
 "metadata": {
  "kernelspec": {
   "display_name": "Python 3 (ipykernel)",
   "language": "python",
   "name": "python3"
  },
  "language_info": {
   "codemirror_mode": {
    "name": "ipython",
    "version": 3
   },
   "file_extension": ".py",
   "mimetype": "text/x-python",
   "name": "python",
   "nbconvert_exporter": "python",
   "pygments_lexer": "ipython3",
   "version": "3.11.7"
  }
 },
 "nbformat": 4,
 "nbformat_minor": 5
}
